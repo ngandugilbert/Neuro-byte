{
 "cells": [
  {
   "cell_type": "code",
   "execution_count": 1,
   "metadata": {},
   "outputs": [],
   "source": [
    "import tensorflow as tf\n",
    "import numpy as np\n",
    "import matplotlib.pyplot as plt"
   ]
  },
  {
   "cell_type": "code",
   "execution_count": 2,
   "metadata": {},
   "outputs": [],
   "source": [
    "# Load the mnist dataset\n",
    "(x_train, y_train), (x_test, y_test) = tf.keras.datasets.fashion_mnist.load_data()\n",
    "# Normalize the data to be from 0 to 1 instead of being from 0 to 255\n",
    "x_train = x_train/255.0\n",
    "x_test = x_test/255.0"
   ]
  },
  {
   "cell_type": "code",
   "execution_count": 3,
   "metadata": {},
   "outputs": [],
   "source": [
    "# We now have to create the layers, in this example, we shall define a convolutional nueral network and some dense layers\n",
    "input_layer = tf.keras.layers.Conv2D(32, (3, 3), padding='same',input_shape=(28,28, 1), activation=tf.nn.relu)\n",
    "hidden_layer1 = tf.keras.layers.MaxPooling2D((2, 2), strides=2)\n",
    "\n",
    "# Another one\n",
    "hidden_layer2 = tf.keras.layers.Conv2D(64, (3, 3), padding='same', activation=tf.nn.relu)\n",
    "hidden_layer3 = tf.keras.layers.MaxPooling2D((2, 2), strides=2)\n",
    "\n",
    "# We can now define our dense layers after flattening\n",
    "flatten = tf.keras.layers.Flatten()\n",
    "dense_layer = tf.keras.layers.Dense(activation=tf.nn.relu, units=128)\n",
    "output_layer = tf.keras.layers.Dense(units=10, activation=tf.nn.softmax)"
   ]
  },
  {
   "cell_type": "code",
   "execution_count": 4,
   "metadata": {},
   "outputs": [],
   "source": [
    "# We can now assemble the model\n",
    "model = tf.keras.Sequential([input_layer, hidden_layer1, hidden_layer2, hidden_layer3, flatten, dense_layer, output_layer])"
   ]
  },
  {
   "cell_type": "code",
   "execution_count": 5,
   "metadata": {},
   "outputs": [],
   "source": [
    "# We can now compile the model\n",
    "model.compile(loss=tf.keras.losses.SparseCategoricalCrossentropy(), metrics=['accuracy'], optimizer='adam')"
   ]
  },
  {
   "cell_type": "code",
   "execution_count": null,
   "metadata": {},
   "outputs": [],
   "source": [
    "# Now train the model\n",
    "history = model.fit(x_train, y_train,epochs=2, batch_size=32,validation_split=0.2 )"
   ]
  },
  {
   "cell_type": "code",
   "execution_count": null,
   "metadata": {},
   "outputs": [],
   "source": [
    "# Evaluate the mode\n",
    "(loss, acc) = model.evaluate(x_test, y_test)\n",
    "print(f'Loss: {loss}')\n",
    "print(f'Accuracy: {acc}')"
   ]
  },
  {
   "cell_type": "code",
   "execution_count": null,
   "metadata": {},
   "outputs": [],
   "source": [
    "# Test it on one product\n",
    "image = x_test[70]\n",
    "plt.imshow(image, cmap='gray')\n",
    "plt.show()"
   ]
  },
  {
   "cell_type": "code",
   "execution_count": 9,
   "metadata": {},
   "outputs": [],
   "source": [
    "data_classes = np.array(['T-Shirt', 'Trouser', 'Pullover', 'Dress', 'Coat', 'Sandal', 'Shirt', 'Sneaker', 'Bag', 'Ankle Boot'])\n"
   ]
  },
  {
   "cell_type": "code",
   "execution_count": null,
   "metadata": {},
   "outputs": [],
   "source": [
    "img = np.array([image])\n",
    "single_prediction = model.predict(img)\n",
    "print(f'Prediction: {data_classes[np.argmax(single_prediction)]}')\n",
    "print(f'Confidence: {((np.max(single_prediction)*100)):.2f}%')"
   ]
  },
  {
   "cell_type": "code",
   "execution_count": 12,
   "metadata": {},
   "outputs": [],
   "source": [
    "export_path_keras = \"./models/{}.h5\".format('CNN1')\n",
    "model.save(export_path_keras)"
   ]
  },
  {
   "cell_type": "code",
   "execution_count": null,
   "metadata": {},
   "outputs": [],
   "source": [
    "reloaded = tf.keras.models.load_model(export_path_keras)\n",
    "reloaded.summary()"
   ]
  }
 ],
 "metadata": {
  "kernelspec": {
   "display_name": "env",
   "language": "python",
   "name": "python3"
  },
  "language_info": {
   "codemirror_mode": {
    "name": "ipython",
    "version": 3
   },
   "file_extension": ".py",
   "mimetype": "text/x-python",
   "name": "python",
   "nbconvert_exporter": "python",
   "pygments_lexer": "ipython3",
   "version": "3.11.3"
  },
  "orig_nbformat": 4
 },
 "nbformat": 4,
 "nbformat_minor": 2
}
